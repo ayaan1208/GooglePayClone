{
 "cells": [
  {
   "cell_type": "code",
   "execution_count": 1,
   "id": "1ddfc00a",
   "metadata": {},
   "outputs": [
    {
     "name": "stdout",
     "output_type": "stream",
     "text": [
      "Enter sender's phone number: 9328666495\n",
      "Welcome! Add initial amount to your wallet: 50\n",
      "Enter recipient's phone number: 9898067611\n",
      "Welcome! Add initial amount to your wallet: 112\n",
      "Enter the amount to transfer: 1112\n",
      "Insufficient balance.\n"
     ]
    }
   ],
   "source": [
    "import random\n",
    "\n",
    "class User:\n",
    "    def __init__(self, phone_num, available_amount=0):\n",
    "        self.phone_num = phone_num\n",
    "        self.available_amount = available_amount\n",
    "\n",
    "class Transaction:\n",
    "    def __init__(self, sender, recipient, amount):\n",
    "        self.sender = sender\n",
    "        self.recipient = recipient\n",
    "        self.amount = amount\n",
    "\n",
    "def login(users, phone_num):\n",
    "    if phone_num in users:\n",
    "        return users[phone_num]\n",
    "    else:\n",
    "        initial_amount = float(input(\"Welcome! Add initial amount to your wallet: \"))\n",
    "        user = User(phone_num, initial_amount)\n",
    "        users[phone_num] = user\n",
    "        return user\n",
    "\n",
    "def transfer_amount(sender, recipient, amount):\n",
    "    if sender.available_amount >= amount:\n",
    "        sender.available_amount -= amount\n",
    "        recipient.available_amount += amount\n",
    "        return True\n",
    "    else:\n",
    "        print(\"Insufficient balance.\")\n",
    "        return False\n",
    "\n",
    "def handle_cashback(amount):\n",
    "    if amount % 500 == 0:\n",
    "        print(\"No cashback for multiples of 500. Better luck next time!\")\n",
    "    elif amount < 1000:\n",
    "        cashback = 0.05 * amount\n",
    "        print(f\"Congratulations! You got 5% cashback: {cashback}\")\n",
    "    else:\n",
    "        cashback = 0.02 * amount\n",
    "        print(f\"Congratulations! You got 2% cashback: {cashback}\")\n",
    "\n",
    "def display_info(user, transactions):\n",
    "    print(f\"Available balance: {user.available_amount}\")\n",
    "    print(\"Transaction history:\")\n",
    "    for transaction in transactions:\n",
    "        print(f\"{transaction.sender.phone_num} -> {transaction.recipient.phone_num}: {transaction.amount}\")\n",
    "\n",
    "# Example of usage\n",
    "users = {}\n",
    "transactions = []\n",
    "\n",
    "sender_phone = input(\"Enter sender's phone number: \")\n",
    "sender = login(users, sender_phone)\n",
    "\n",
    "recipient_phone = input(\"Enter recipient's phone number: \")\n",
    "recipient = login(users, recipient_phone)\n",
    "\n",
    "amount = float(input(\"Enter the amount to transfer: \"))\n",
    "if transfer_amount(sender, recipient, amount):\n",
    "    handle_cashback(amount)\n",
    "    transaction = Transaction(sender, recipient, amount)\n",
    "    transactions.append(transaction)\n",
    "    display_info(sender, transactions)\n"
   ]
  },
  {
   "cell_type": "code",
   "execution_count": null,
   "id": "d77c18de",
   "metadata": {},
   "outputs": [],
   "source": []
  }
 ],
 "metadata": {
  "kernelspec": {
   "display_name": "Python 3 (ipykernel)",
   "language": "python",
   "name": "python3"
  },
  "language_info": {
   "codemirror_mode": {
    "name": "ipython",
    "version": 3
   },
   "file_extension": ".py",
   "mimetype": "text/x-python",
   "name": "python",
   "nbconvert_exporter": "python",
   "pygments_lexer": "ipython3",
   "version": "3.9.7"
  }
 },
 "nbformat": 4,
 "nbformat_minor": 5
}
